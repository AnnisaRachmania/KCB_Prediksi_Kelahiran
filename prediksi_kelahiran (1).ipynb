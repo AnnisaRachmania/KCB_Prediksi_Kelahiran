{
 "cells": [
  {
   "cell_type": "code",
   "execution_count": 1,
   "id": "9682f481",
   "metadata": {},
   "outputs": [],
   "source": [
    "# Pendefinisian fungsi dan kelas yang digunakan \n",
    "# Import library keras dan lain-lain \n",
    "import numpy as np # For matrix math \n",
    "from numpy import loadtxt \n",
    "import matplotlib.pyplot as plt # For plotting \n",
    "import keras \n",
    "from keras.models import Sequential \n",
    "from keras.utils import to_categorical \n",
    "from keras.layers import Flatten, Dense, Activation \n",
    "from IPython.display import clear_output "
   ]
  },
  {
   "cell_type": "code",
   "execution_count": 2,
   "id": "4e219ae7",
   "metadata": {},
   "outputs": [],
   "source": [
    "def normalisasi(x):\n",
    "    a = np.max(x)\n",
    "    b = np.min(x)\n",
    "    for i in x:\n",
    "        hasil_normalisasi = (0.8 * (x - b))/(a-b) + 0.1\n",
    "    return hasil_normalisasi"
   ]
  },
  {
   "cell_type": "code",
   "execution_count": 3,
   "id": "4af8b6f9",
   "metadata": {},
   "outputs": [],
   "source": [
    "import numpy as np\n",
    "\n",
    "# Load the data latih\n",
    "# Data Tingkat Kelahiran mulai Tahun 19991 sampai dengan Tahun 2022\n",
    "\n",
    "AKI = np.genfromtxt('angka_kelahiran_indonesia.csv', delimiter=',', filling_values=0.0)\n",
    "AKI_normal = normalisasi(AKI)\n",
    "\n",
    "AKI_Target = AKI[:, 10]\n",
    "AKI_Target_Uji = AKI[:, 11]\n",
    "\n",
    "# DATA PELATIHAN =================================\n",
    "# Data dibagi menjadi 10 variabel input (X) dan 1 variabel output (Y)\n",
    "# Input: mulai tahun 1991 sampai tahun 2022\n",
    "X = AKI_normal[:, 0:10]\n",
    "\n",
    "# Output: data AKI tahun 2018 dan 2020\n",
    "Y = AKI_normal[:, 10]\n",
    "\n",
    "# DATA UJI PREDIKSI=================================\n",
    "# Geser dua tahun ke depan\n",
    "# Input: mulai tahun 1991 sampai tahun 2022\n",
    "# Untuk memprediksi AKI Tahun 2021 dan 2022\n",
    "X1 = AKI_normal[:, 1:11]\n",
    "\n",
    "# Urut tahun, menggantikan indeks dari 0 s.d 1\n",
    "urut = [1, 2]\n",
    "\n"
   ]
  },
  {
   "cell_type": "code",
   "execution_count": 4,
   "id": "e3ccb946",
   "metadata": {},
   "outputs": [
    {
     "name": "stdout",
     "output_type": "stream",
     "text": [
      "[[3.06 2.88 2.8  2.74 2.58 2.5  2.43 2.43 2.49 2.46 2.5  2.43 2.34 2.26\n",
      "  2.21 2.17]\n",
      " [2.94 2.84 2.77 2.65 2.54 2.46 2.42 2.45 2.48 2.45 2.49 2.39 2.31 2.23\n",
      "  2.19 2.15]]\n"
     ]
    }
   ],
   "source": [
    "print(AKI)"
   ]
  },
  {
   "cell_type": "code",
   "execution_count": 5,
   "id": "cab94b17",
   "metadata": {},
   "outputs": [
    {
     "name": "stdout",
     "output_type": "stream",
     "text": [
      "[[0.9        0.74175824 0.67142857 0.61868132 0.47802198 0.40769231\n",
      "  0.34615385 0.34615385 0.3989011  0.37252747 0.40769231 0.34615385\n",
      "  0.26703297 0.1967033  0.15274725 0.11758242]\n",
      " [0.79450549 0.70659341 0.64505495 0.53956044 0.44285714 0.37252747\n",
      "  0.33736264 0.36373626 0.39010989 0.36373626 0.3989011  0.31098901\n",
      "  0.24065934 0.17032967 0.13516484 0.1       ]]\n"
     ]
    }
   ],
   "source": [
    "AKI_normal = normalisasi(AKI)\n",
    "print(AKI_normal)"
   ]
  },
  {
   "cell_type": "code",
   "execution_count": 6,
   "id": "84d92e1c",
   "metadata": {},
   "outputs": [
    {
     "name": "stdout",
     "output_type": "stream",
     "text": [
      "barisnya = 2\n",
      "kolomnya = 16\n"
     ]
    }
   ],
   "source": [
    "baris, kolom = AKI.shape\n",
    "print(\"barisnya =\",baris)\n",
    "print(\"kolomnya =\",kolom)"
   ]
  },
  {
   "cell_type": "code",
   "execution_count": 7,
   "id": "4801016f",
   "metadata": {},
   "outputs": [
    {
     "name": "stdout",
     "output_type": "stream",
     "text": [
      "barisnya = 2\n",
      "kolomnya = 16\n"
     ]
    }
   ],
   "source": [
    "baris, kolom = AKI_normal.shape\n",
    "print(\"barisnya =\",baris)\n",
    "print(\"kolomnya =\",kolom)"
   ]
  },
  {
   "cell_type": "code",
   "execution_count": 8,
   "id": "20ded9ff",
   "metadata": {},
   "outputs": [
    {
     "name": "stdout",
     "output_type": "stream",
     "text": [
      "barisnya = 2\n",
      "kolomnya = 10\n"
     ]
    }
   ],
   "source": [
    "baris, kolom = X.shape\n",
    "print(\"barisnya =\",baris)\n",
    "print(\"kolomnya =\",kolom)"
   ]
  },
  {
   "cell_type": "code",
   "execution_count": 9,
   "id": "1076b6d1",
   "metadata": {},
   "outputs": [],
   "source": [
    "# Mendefinisikan model keras\n",
    "model = Sequential()\n",
    "model.add(Dense(10, input_dim=10, activation='relu'))\n",
    "model.add(Dense(10, activation='relu'))\n",
    "model.add(Dense(10, activation='relu'))\n",
    "model.add(Dense(1, activation='sigmoid'))"
   ]
  },
  {
   "cell_type": "code",
   "execution_count": 10,
   "id": "c3cd7c2b",
   "metadata": {},
   "outputs": [],
   "source": [
    "# Proses kompilasi (pelatihan) Deep Learning\n",
    "model.compile(loss='mean_squared_error', optimizer='adam', metrics=['mean_squared_error'])"
   ]
  },
  {
   "cell_type": "code",
   "execution_count": 11,
   "id": "c513ed91",
   "metadata": {},
   "outputs": [],
   "source": [
    "class PlotLosses(keras.callbacks.Callback):\n",
    "    def on_train_begin(self, logs={}):\n",
    "        self.i = 0\n",
    "        self.x = []\n",
    "        self.losses = []\n",
    "        self.val_losses = []\n",
    "        \n",
    "        self.fig = plt.figure()\n",
    "        \n",
    "        self.logs = []\n",
    "\n",
    "    def on_epoch_end(self, epoch, logs={}):\n",
    "        \n",
    "        self.logs.append(logs)\n",
    "        self.x.append(self.i)\n",
    "        self.losses.append(logs.get('loss'))\n",
    "        self.val_losses.append(logs.get('val_loss'))\n",
    "        self.i += 1\n",
    "        \n",
    "        clear_output(wait=True)\n",
    "        plt.plot(self.x, self.losses, label=\"loss\")\n",
    "        plt.plot(self.x, self.val_losses, label=\"val_loss\")\n",
    "        plt.legend()\n",
    "        plt.grid()\n",
    "        plt.xlabel('epoch')\n",
    "        plt.ylabel('loss')\n",
    "        plt.show();\n",
    "        \n",
    "plot_losses = PlotLosses()"
   ]
  },
  {
   "cell_type": "code",
   "execution_count": 12,
   "id": "27876c8d",
   "metadata": {},
   "outputs": [
    {
     "data": {
      "image/png": "[encoded data removed]",
      "text/plain": [
       "<Figure size 640x480 with 1 Axes>"
      ]
     },
     "metadata": {},
     "output_type": "display_data"
    },
    {
     "data": {
      "text/plain": [
       "<keras.callbacks.History at 0x13cacca11d0>"
      ]
     },
     "execution_count": 12,
     "metadata": {},
     "output_type": "execute_result"
    }
   ],
   "source": [
    "model.fit(X, Y,\n",
    "          epochs=500,\n",
    "          validation_data=(X, Y),\n",
    "          callbacks=[plot_losses],\n",
    "          verbose=0)"
   ]
  },
  {
   "cell_type": "code",
   "execution_count": 13,
   "id": "6294ca50",
   "metadata": {},
   "outputs": [
    {
     "name": "stdout",
     "output_type": "stream",
     "text": [
      "2/2 [==============================] - 0s 18ms/step - loss: 2.9449e-06 - mean_squared_error: 2.9449e-06\n",
      "MSE : 0.00\n"
     ]
    }
   ],
   "source": [
    "# evaluate the keras model\n",
    "# Evalusi hasil proses pelatihan Deep Learning\n",
    "# Hitung akurasi hasil pelatihan dalam bentuk Prosentase Keberhasilan\n",
    "# Prosentase Keberhasilan = 100 - MAPE\n",
    "\n",
    "#_, MAPE_pelatihan = model.evaluate(X_normal, Y_normal, batch_size=1)\n",
    "\n",
    "_, MSE = model.evaluate(X, Y, batch_size=1)\n",
    "\n",
    "#print('Prosentase_keberhasilan: %.2f' % (100-MAPE_pelatihan))\n",
    "\n",
    "print('MSE : %.2f' % (MSE))"
   ]
  },
  {
   "cell_type": "code",
   "execution_count": 14,
   "id": "c0f8b89c",
   "metadata": {},
   "outputs": [
    {
     "name": "stdout",
     "output_type": "stream",
     "text": [
      "1/1 [==============================] - 0s 144ms/step\n",
      "[[0.40614048]\n",
      " [0.40076694]]\n"
     ]
    }
   ],
   "source": [
    "# menjalankan fungsi prediksi\n",
    "y_pred = model.predict(X)\n",
    "print(y_pred)"
   ]
  },
  {
   "cell_type": "code",
   "execution_count": 15,
   "id": "aedd0211",
   "metadata": {},
   "outputs": [
    {
     "name": "stdout",
     "output_type": "stream",
     "text": [
      "y_prediksi = [[2.498235 ]\n",
      " [2.4921227]]\n"
     ]
    }
   ],
   "source": [
    "# Denormalisasi Data sebelum dibandngkan\n",
    "\n",
    "a = np.max(AKI)\n",
    "b = np.min(AKI)\n",
    "\n",
    "# Rumus\n",
    "# x_denormalisasi = (((x_normalisasi - 0.1)*(a - b))/0.8) + b\n",
    "\n",
    "y_prediksi = (((y_pred - 0.1)*(a - b))/0.8) + b\n",
    "\n",
    "print(\"y_prediksi =\", y_prediksi)"
   ]
  },
  {
   "cell_type": "code",
   "execution_count": 16,
   "id": "4e27ec39",
   "metadata": {},
   "outputs": [],
   "source": [
    "# Urut tahun, menggantikan indeks dari 0 s.d 1\n",
    "urutan1 = ['2020',\n",
    "       '2021',\n",
    "       ]"
   ]
  },
  {
   "cell_type": "code",
   "execution_count": 17,
   "id": "59cef9e0",
   "metadata": {},
   "outputs": [
    {
     "data": {
      "image/png": "[encoded data removed]",
      "text/plain": [
       "<Figure size 640x480 with 1 Axes>"
      ]
     },
     "metadata": {},
     "output_type": "display_data"
    }
   ],
   "source": [
    "# Plot Keluaran Hasil Prediksi Tahap Pelatihan\n",
    "\n",
    "plt.title('Keluaran Hasil Prediksi Tahap Pelatihan')\n",
    "plt.plot(urutan1, AKI_Target, '-b', label='Target',linewidth=3, markersize=12)\n",
    "plt.plot(urutan1, y_prediksi, '--r', label='Prediksi', linewidth=3, markersize=12)\n",
    "plt.legend();\n",
    "plt.xlabel('Tahun')\n",
    "plt.ylabel('AKI (%)')\n",
    "plt.ylim((2,8))\n",
    "plt.grid()"
   ]
  },
  {
   "cell_type": "code",
   "execution_count": 18,
   "id": "1d3c8001",
   "metadata": {},
   "outputs": [
    {
     "data": {
      "image/png": "[encoded data removed]",
      "text/plain": [
       "<Figure size 640x480 with 1 Axes>"
      ]
     },
     "metadata": {},
     "output_type": "display_data"
    }
   ],
   "source": [
    "# Plot Kesalahan Prediksi\n",
    "\n",
    "selisih = AKI_Target - y_prediksi.transpose()\n",
    "plt.title('Kesalahan Prediksi Tahap Pelatihan')\n",
    "plt.plot(urutan1, selisih.transpose(), '-m', label='error', linewidth=3, markersize=12)\n",
    "plt.legend();\n",
    "plt.xlabel('Tahun')\n",
    "plt.ylabel('AKI (%)')\n",
    "plt.ylim((-2.5,2.5))\n",
    "plt.grid()"
   ]
  },
  {
   "cell_type": "code",
   "execution_count": 19,
   "id": "31b1b5ad",
   "metadata": {},
   "outputs": [
    {
     "name": "stdout",
     "output_type": "stream",
     "text": [
      "mse = 3.810456810287635e-06\n",
      "rmse = 0.0019520391415869802\n",
      "MAPE = 0.20041596937370637\n",
      "Persentase_keberhasilan = 99.79958403062629\n"
     ]
    }
   ],
   "source": [
    "# Pengukuran kinerja Deep Learning\n",
    "\n",
    "from sklearn.metrics import mean_squared_error\n",
    "from math import sqrt\n",
    "mse  = mean_squared_error(AKI_Target, y_prediksi)\n",
    "rmse = sqrt(mse)\n",
    "print(\"mse =\",mse)\n",
    "print(\"rmse =\",rmse)\n",
    "\n",
    "def mean_absolute_percentage_error(y_true, y_pred):\n",
    "    y_true, y_pred = np.array(y_true), np.array(y_pred)\n",
    "    return np.mean(np.abs((y_true - y_pred) / y_true)) * 100\n",
    "\n",
    "MAPE = mean_absolute_percentage_error(AKI_Target, y_prediksi)\n",
    "print(\"MAPE =\",MAPE)\n",
    "\n",
    "Persentase_keberhasilan = 100-MAPE\n",
    "print(\"Persentase_keberhasilan =\", Persentase_keberhasilan)"
   ]
  },
  {
   "cell_type": "code",
   "execution_count": null,
   "id": "043248ac",
   "metadata": {},
   "outputs": [],
   "source": []
  },
  {
   "cell_type": "code",
   "execution_count": null,
   "id": "be8cdb3f",
   "metadata": {},
   "outputs": [],
   "source": []
  },
  {
   "cell_type": "markdown",
   "id": "1dff7a09",
   "metadata": {},
   "source": [
    "# Prediksi AKI\n",
    "\n",
    "# Tahap Pengujian\n",
    "\n",
    "Input : mulai tahun 2001 sampai tahun 2020\n",
    "\n",
    "Untuk Memprediksi AKI di Tahun 2021 dan 2022"
   ]
  },
  {
   "cell_type": "code",
   "execution_count": 20,
   "id": "380dc033",
   "metadata": {},
   "outputs": [],
   "source": [
    "# Urut tahun, menggantikan indeks dari 0 s.d 1\n",
    "urutan2 = ['2021',\n",
    "       '2022'\n",
    "       ]"
   ]
  },
  {
   "cell_type": "code",
   "execution_count": 21,
   "id": "a6c8a700",
   "metadata": {},
   "outputs": [
    {
     "name": "stdout",
     "output_type": "stream",
     "text": [
      "1/1 [==============================] - 0s 28ms/step\n",
      "Hasil prediksi sebelum denormalisasi = [[0.40144804]\n",
      " [0.4095339 ]]\n"
     ]
    }
   ],
   "source": [
    "# Ujicoba prediksi\n",
    "y_uji = model.predict(X1)\n",
    "print('Hasil prediksi sebelum denormalisasi =', y_uji)"
   ]
  },
  {
   "cell_type": "code",
   "execution_count": 22,
   "id": "e9f291bc",
   "metadata": {},
   "outputs": [
    {
     "name": "stdout",
     "output_type": "stream",
     "text": [
      "y_pengujian = [[2.4928973]\n",
      " [2.502095 ]]\n"
     ]
    }
   ],
   "source": [
    "# Denormalisasi Data sebelum dibandngkan\n",
    "\n",
    "a = np.max(AKI)\n",
    "b = np.min(AKI)\n",
    "\n",
    "# Rumus\n",
    "# x_denormalisasi = (((x_normalisasi - 0.1)*(a - b))/0.8) + b\n",
    "\n",
    "y_pengujian = (((y_uji - 0.1)*(a - b))/0.8) + b\n",
    "\n",
    "print(\"y_pengujian =\", y_pengujian)"
   ]
  },
  {
   "cell_type": "code",
   "execution_count": 23,
   "id": "fe44e645",
   "metadata": {},
   "outputs": [
    {
     "data": {
      "image/png": "[encoded data removed]",
      "text/plain": [
       "<Figure size 640x480 with 1 Axes>"
      ]
     },
     "metadata": {},
     "output_type": "display_data"
    }
   ],
   "source": [
    "# Plot keluaran hasil prediksi Tahap Pengujian\n",
    "\n",
    "plt.title('Hasil Prediksi Tahap Pengujian')\n",
    "plt.plot(urutan2,  AKI_Target_Uji, '-b', label='Yang diinginkan',linewidth=3, markersize=12)\n",
    "plt.plot(urutan2, y_pengujian, '--r', label='Prediksi', linewidth=3, markersize=12)\n",
    "plt.legend();\n",
    "plt.xlabel('Tahun')\n",
    "plt.ylabel('AKI (%)')\n",
    "plt.ylim((0,10))\n",
    "plt.grid()"
   ]
  },
  {
   "cell_type": "code",
   "execution_count": 24,
   "id": "88452dd2",
   "metadata": {
    "scrolled": true
   },
   "outputs": [
    {
     "data": {
      "image/png": "[encoded data removed]",
      "text/plain": [
       "<Figure size 640x480 with 1 Axes>"
      ]
     },
     "metadata": {},
     "output_type": "display_data"
    }
   ],
   "source": [
    "# Plot kesalahan prediksi Tahap Pengujian\n",
    "\n",
    "selisih_pengujian = AKI_Target_Uji - y_pengujian.transpose()\n",
    "plt.title('Kesalahan Prediksi Tahap Pengujian')\n",
    "plt.plot(urutan2, selisih_pengujian.transpose(), '-m', label='error', linewidth=3, markersize=12)\n",
    "plt.legend();\n",
    "plt.xlabel('Tahun')\n",
    "plt.ylabel('AKI (%)')\n",
    "plt.ylim((-7,7))\n",
    "plt.grid()"
   ]
  },
  {
   "cell_type": "code",
   "execution_count": 25,
   "id": "81df0fb8",
   "metadata": {},
   "outputs": [
    {
     "name": "stdout",
     "output_type": "stream",
     "text": [
      "mse = 0.008260676144535385\n",
      "rmse = 0.09088826186331976\n",
      "MAPE = 3.6376821922324387\n",
      "Persentase_keberhasilan = 96.36231780776757\n"
     ]
    }
   ],
   "source": [
    "# Pengukuran kinerja Deep Learning Tahap Pengujian\n",
    "\n",
    "from sklearn.metrics import mean_squared_error\n",
    "from math import sqrt\n",
    "mse1  = mean_squared_error(AKI_Target_Uji, y_pengujian)\n",
    "rmse1 = sqrt(mse1)\n",
    "print(\"mse =\",mse1)\n",
    "print(\"rmse =\",rmse1)\n",
    "\n",
    "MAPE = mean_absolute_percentage_error(AKI_Target_Uji, y_pengujian)\n",
    "print(\"MAPE =\",MAPE)\n",
    "\n",
    "Persentase_keberhasilan = 100-MAPE\n",
    "print(\"Persentase_keberhasilan =\", Persentase_keberhasilan)"
   ]
  },
  {
   "cell_type": "code",
   "execution_count": null,
   "id": "afc8a9d0",
   "metadata": {},
   "outputs": [],
   "source": []
  }
 ],
 "metadata": {
  "kernelspec": {
   "display_name": "Python 3 (ipykernel)",
   "language": "python",
   "name": "python3"
  },
  "language_info": {
   "codemirror_mode": {
    "name": "ipython",
    "version": 3
   },
   "file_extension": ".py",
   "mimetype": "text/x-python",
   "name": "python",
   "nbconvert_exporter": "python",
   "pygments_lexer": "ipython3",
   "version": "3.11.2"
  }
 },
 "nbformat": 4,
 "nbformat_minor": 5
}
